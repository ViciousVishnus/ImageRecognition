{
 "cells": [
  {
   "cell_type": "code",
   "execution_count": 2,
   "metadata": {},
   "outputs": [],
   "source": [
    "#Michael Heege\n",
    "%matplotlib notebook\n",
    "import matplotlib.pyplot as plt\n",
    "from camera import take_picture\n",
    "import numpy as np"
   ]
  },
  {
   "cell_type": "code",
   "execution_count": 3,
   "metadata": {},
   "outputs": [],
   "source": [
    "\"\"\"This cell has stuff that is going to be the input and the threshold hyper parameter. We wont need this cell in the\n",
    "    final product but thresh=.4 must be carried over\n",
    "\"\"\"\n",
    "numPics = 30 #This is just a random number lol\n",
    "picture_list = np.random.rand(numPics,128) #Populate this\n",
    "#number of pictures, 128 for each descriptor\n",
    "#whent the list is random all the arrays will be far from eachother so nothing will probably cluster\n",
    "thresh = .4 #If the distance is greater than this they are unrelated"
   ]
  },
  {
   "cell_type": "code",
   "execution_count": 4,
   "metadata": {},
   "outputs": [],
   "source": [
    "def compute_distances(x, y):\n",
    "    \"\"\" Write a function that computes the L2 distance between each row\n",
    "        in `x` and `y`.\n",
    "        Parameters\n",
    "        ----------\n",
    "        x : numpy.ndarray\n",
    "            x.shape must be (M, D)\n",
    "            Each row of `x` is a flattened vector representing the pixel\n",
    "            values of a single image. Thus `x` represents\n",
    "            M images, each one described by a length-D vector.\n",
    "        y : numpy.ndarray\n",
    "            y.shape must be (N, D)\n",
    "            Each row of `y` is a flattened vector representing the pixel\n",
    "            values of a single image. Thus `y` represents\n",
    "            N images, each one described by a length-D vector.\n",
    "        Returns\n",
    "        -------\n",
    "        distances : numpy.ndarray\n",
    "            distances.shape = (M, N)\n",
    "            distances[i, j] = the L2 distance between x[i] and y[j]\n",
    "        knot ritten bai rian\n",
    "    \"\"\"\n",
    "    # STUDENT CODE GOES HERE\n",
    "    dists = -2 * np.dot(x, y.T)\n",
    "    dists +=  np.sum(x**2, axis=1)[:, np.newaxis]\n",
    "    dists += np.sum(y**2, axis=1)\n",
    "    return  np.sqrt(dists)"
   ]
  },
  {
   "cell_type": "code",
   "execution_count": 7,
   "metadata": {},
   "outputs": [],
   "source": [
    "#a = np.array([[1,2,3,4,5,6,7,8,9],[9,8,7,6,3,4,3,2,1],[1.35,2,3,4,5,6,7,8,9]])#numbers used in unit testing\n",
    "def cluster(pic_list):\n",
    "    weightArray = compute_distances(pic_list,pic_list) #This function is from python like you mean it, the best source for python knowledge\n",
    "    weightArray[weightArray==0] = 100 #Prevents the diagonal line of 0s from affecting the function\n",
    "    weightArray = np.reciprocal(weightArray*weightArray) #Does the 1/d^2 thing to find the weights. See the lecture notes if this confuses you.\n",
    "    weightArray[weightArray<1/thresh**2]=-1 #Filters out distances greater than the threshold.\n",
    "    labelList = np.arange(0,pic_list.shape[0]) #List of the labels\n",
    "    #Does a weighted node check. See lecture notes.\n",
    "    for i in range(1000):\n",
    "        temp = np.random.randint(0,len(labelList))\n",
    "        if(weightArray[temp][np.argmax(weightArray[temp])]>0):\n",
    "            labelList[temp] = labelList[np.argmax(weightArray[temp])]\n",
    "    cluster = []\n",
    "    usedLabels = []\n",
    "    #Groups indexes of the images with those in their cluster\n",
    "    for i in range(len(labelList)):\n",
    "        if(labelList[i] in usedLabels):\n",
    "            cluster[usedLabels.index(labelList[i])].append(i)\n",
    "        else:\n",
    "            usedLabels.append(labelList[i])\n",
    "            cluster.append([i])\n",
    "    return cluster"
   ]
  },
  {
   "cell_type": "code",
   "execution_count": 8,
   "metadata": {},
   "outputs": [
    {
     "name": "stdout",
     "output_type": "stream",
     "text": [
      "[[0], [1], [2], [3], [4], [5], [6], [7], [8], [9], [10], [11], [12], [13], [14], [15], [16], [17], [18], [19], [20], [21], [22], [23], [24], [25], [26], [27], [28], [29]]\n"
     ]
    },
    {
     "name": "stderr",
     "output_type": "stream",
     "text": [
      "C:\\Users\\micha\\AppData\\Local\\Continuum\\anaconda3\\envs\\myenv\\lib\\site-packages\\ipykernel_launcher.py:27: RuntimeWarning: invalid value encountered in sqrt\n",
      "C:\\Users\\micha\\AppData\\Local\\Continuum\\anaconda3\\envs\\myenv\\lib\\site-packages\\ipykernel_launcher.py:6: RuntimeWarning: invalid value encountered in less\n",
      "  \n"
     ]
    }
   ],
   "source": [
    "print(cluster(picture_list))"
   ]
  },
  {
   "cell_type": "code",
   "execution_count": null,
   "metadata": {},
   "outputs": [],
   "source": []
  }
 ],
 "metadata": {
  "kernelspec": {
   "display_name": "Python 3",
   "language": "python",
   "name": "python3"
  },
  "language_info": {
   "codemirror_mode": {
    "name": "ipython",
    "version": 3
   },
   "file_extension": ".py",
   "mimetype": "text/x-python",
   "name": "python",
   "nbconvert_exporter": "python",
   "pygments_lexer": "ipython3",
   "version": "3.6.5"
  }
 },
 "nbformat": 4,
 "nbformat_minor": 2
}
