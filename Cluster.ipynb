{
 "cells": [
  {
   "cell_type": "code",
   "execution_count": 53,
   "metadata": {},
   "outputs": [],
   "source": [
    "#Michael Heege\n",
    "%matplotlib notebook\n",
    "import matplotlib.pyplot as plt\n",
    "from camera import take_picture\n",
    "import numpy as np\n",
    "import math"
   ]
  },
  {
   "cell_type": "code",
   "execution_count": 54,
   "metadata": {},
   "outputs": [],
   "source": [
    "\"\"\"This cell has stuff that is going to be the input and the threshold hyper parameter. We wont need this cell in the\n",
    "    final product but thresh=.4 must be carried over\n",
    "\"\"\"\n",
    "numPics = 30 #This is just a random number lol\n",
    "\n",
    "#picture_list = np.random.rand(numPics,128)\n",
    "picture_list = np.array([\n",
    "    [-1.41850531e-01,  1.43561035e-01,  5.08363172e-02, -8.64651054e-02, -5.48480861e-02, -2.28612311e-02, -4.01193649e-02, -8.03256482e-02, 9.87884253e-02, -4.93800417e-02,  2.55014151e-01,  1.26997102e-02, -2.75324374e-01,  2.69229803e-02, -6.11235388e-02,  1.61960706e-01, -2.27753058e-01, -1.16207346e-01, -1.10878989e-01, -1.17769055e-01,2.79660933e-02,  1.05828576e-01, -7.66103491e-02,  7.25992396e-02,-6.55399859e-02, -2.51942754e-01, -2.66701281e-02, -4.77677807e-02,5.71409687e-02, -8.40669498e-02,  1.00152664e-01,  3.71634029e-02,-1.00466214e-01,  1.99006870e-04,  1.09313339e-01,  7.80157447e-02,-5.05675860e-02, -6.09365292e-04,  2.51595140e-01,  6.98729306e-02,-1.41452804e-01,  5.75262383e-02,  1.06946662e-01,  3.55832964e-01,1.59973443e-01,  9.17222723e-02, -1.86552592e-02, -1.04875699e-01,1.05024286e-01, -2.61727482e-01,  2.95976307e-02,  2.29577795e-01,1.19689897e-01,  1.39422730e-01,  5.31536303e-02, -2.19712660e-01,-2.22930610e-02,  1.54278070e-01, -2.08627686e-01,  7.96065181e-02,3.62448245e-02, -6.22425042e-02,  3.40752974e-02, -1.04356870e-01,2.15179414e-01,  6.25364035e-02, -2.31357217e-01, -1.03472546e-01,1.20753206e-01, -1.51922464e-01, -1.55901402e-01,  6.21888638e-02,-1.23896331e-01, -1.37908071e-01, -2.90778846e-01,  5.11730015e-02,3.46391410e-01,  1.12319775e-01, -1.64382055e-01, -6.12329133e-02,1.30630727e-03, -9.47362781e-02,  9.67717916e-03,  1.13279708e-01,-1.18458062e-01, -1.06335089e-01,  2.39871237e-02, -1.81101318e-02,1.86337069e-01,  6.98890984e-02, -4.71582301e-02,  2.05844894e-01,5.94484527e-03,  2.27240231e-02, -3.08575593e-02,  9.11375582e-02,-1.22524783e-01, -6.86994344e-02, -1.34142324e-01, -5.24125807e-02,-1.06906682e-01, -7.05469176e-02,  2.78171226e-02,  1.53697714e-01,-1.83008835e-01,  1.95409641e-01,  7.40365591e-04, -2.60274895e-02,-7.63704553e-02,  1.15093723e-01, -8.73314664e-02, -7.13973818e-03,1.85926095e-01, -2.25677863e-01,  2.89313912e-01,  2.60544628e-01,9.00219679e-02,  6.94745108e-02,  9.55998003e-02,  1.20044444e-02,-9.19830985e-03,  1.11695901e-02, -1.23886019e-01, -1.24676712e-01,1.47075672e-02, -7.42842779e-02,  6.96285516e-02, -3.74712469e-03],\n",
    "    [-0.13345364,  0.17177933,  0.04407747, -0.06411494, -0.05136455, -0.03796488,-0.03501369, -0.08582252,  0.09174997, -0.03670132,  0.22597823,  0.01154747,-0.2518132,   0.05156056, -0.05707371,  0.13329166, -0.24473259, -0.10264518,-0.11022684, -0.10775107,  0.03900959,  0.11738839, -0.09119581,  0.05472872,-0.08483306, -0.25498691, -0.04225614, -0.0317883,   0.07765634, -0.03415798,0.08645369,  0.04142179, -0.08708452, -0.00364224,  0.11097603,  0.03918492,-0.05706827,  0.00517862,  0.26194444,  0.06354892, -0.16253589,  0.07548124,0.11678885,  0.35378438,  0.16533427,  0.10388403, -0.00509007, -0.08708938,0.12163203, -0.26344863,  0.02666206,  0.22226322,  0.13523811,  0.14247832,0.02720681, -0.24773502, -0.04492596,  0.13420132, -0.19511271,  0.07878923,0.04368557, -0.09440516,  0.04376904, -0.08602973,  0.20730346,  0.06608352,-0.21347758, -0.09851978,  0.13328934, -0.15557916, -0.13296065,  0.06200052,-0.10520262, -0.14258167, -0.27784359,  0.06261133,  0.34882864,  0.1224038,-0.13392018, -0.05801519, -0.00218363, -0.0733205,   0.01496164,  0.09745319,-0.1620122, -0.08756541,  0.01026226, -0.00463573, 0.2248648,   0.0602124,-0.06397311,  0.21101189,  0.02362038,  0.05214758, -0.02656687,  0.07885991,-0.12075713, -0.07546131, -0.13346693, -0.02639033, -0.06663679, -0.07164879,0.03821329,  0.17008184, -0.18353772,  0.21835105, -0.00059669, -0.01351773,-0.0863006,   0.10287383, -0.0826799,   0.01946557,  0.18714444, -0.1941226,0.28489789,  0.23243083,  0.09618647,  0.09363035,  0.11102139, -0.02309525,-0.01133752, -0.00108673, -0.13746031, -0.12899783,  0.05189463, -0.07806993,0.1015846,   0.00858686],\n",
    "    [-0.09222962, -0.00738695,  0.03495588, -0.09783944, -0.0109241,   0.03729647,-0.02322386, -0.14097582,  0.20430531, -0.18807513,  0.17929541,  0.0159448,-0.21434753, -0.08501723, -0.00677306,  0.04076761, -0.14802894, -0.21224564,-0.04340013, -0.04997475, -0.05011522, -0.04914607,  0.01025447, 0.05281912,-0.16406068, -0.3921296,  -0.14479958, -0.0960599,   0.07712621, -0.0100166,-0.02335356,  0.05962497, -0.24308908, -0.01858897, -0.0076916,   0.08670165,0.03573158,  0.01397519,  0.21012592,  0.06712442, -0.19643234, -0.0538009,0.01493275,  0.2009961,   0.11970054,  0.05371275,  0.00278445, -0.08656369,0.05707875, -0.20058309,  0.1289362,   0.17791665,  0.10845801,  0.0331062,0.06927906, -0.15825944, -0.01574098,  0.07625427, -0.19827104,  0.12165718,0.01035189, -0.04659954, -0.03799384, -0.0225189,   0.20266004,  0.15244269,-0.09953566, -0.15739137,  0.26300478, -0.17744227,  0.01292379,  0.07972659,-0.0491488,  -0.17723462, -0.21389742,  0.05497315,  0.41961315,  0.19067362,-0.13172925,  0.0530475,  -0.15608454, -0.13192053,  0.05748538,  0.06494732,-0.10737799,  0.05525945,  0.00283242,  0.04893204,  0.18391338,  0.11642427,-0.02476422,  0.21567933, -0.06343228,  0.07722367,  0.06818441,  0.0390949,-0.10803303,  0.00872496, -0.15745531, -0.02718439,  0.01420276, -0.06301925,0.0515933,  0.10460018, -0.17253394,  0.13441654,  0.0045562,  -0.08253068,0.05174553,  0.09628704, -0.10995986, -0.09784915,  0.15812179, -0.31974611,0.18398681,  0.14986338,  0.05507609,  0.15729207,  0.11012201,  0.07081494,0.04885063, -0.08597775, -0.17803672, -0.05564306,  0.03011209, -0.09206554,0.0663693,   0.03734079]\n",
    "])\n",
    "#number of pictures, 128 for each descriptor\n",
    "#the picture_list is currently [Picture of Michael, Different Picture of Michael, Picture of Vishnu]\n",
    "\n",
    "thresh = .4 #If the distance is greater than this they are unrelated"
   ]
  },
  {
   "cell_type": "code",
   "execution_count": 55,
   "metadata": {},
   "outputs": [],
   "source": [
    "def compute_distances(x, y):\n",
    "    \"\"\" Write a function that computes the L2 distance between each row\n",
    "        in `x` and `y`.\n",
    "        Parameters\n",
    "        ----------\n",
    "        x : numpy.ndarray\n",
    "            x.shape must be (M, D)\n",
    "            Each row of `x` is a flattened vector representing the pixel\n",
    "            values of a single image. Thus `x` represents\n",
    "            M images, each one described by a length-D vector.\n",
    "        y : numpy.ndarray\n",
    "            y.shape must be (N, D)\n",
    "            Each row of `y` is a flattened vector representing the pixel\n",
    "            values of a single image. Thus `y` represents\n",
    "            N images, each one described by a length-D vector.\n",
    "        Returns\n",
    "        -------\n",
    "        distances : numpy.ndarray\n",
    "            distances.shape = (M, N)\n",
    "            distances[i, j] = the L2 distance between x[i] and y[j]\n",
    "        knot ritten bai rian\n",
    "    \"\"\"\n",
    "    # STUDENT CODE GOES HERE\n",
    "    dists = -2 * np.dot(x, y.T)\n",
    "    dists +=  np.sum(x**2, axis=1)[:, np.newaxis]\n",
    "    dists += np.sum(y**2, axis=1)\n",
    "    return  np.sqrt(dists)"
   ]
  },
  {
   "cell_type": "code",
   "execution_count": 56,
   "metadata": {},
   "outputs": [],
   "source": [
    "#picture_list = np.array([[1,2,3,4,5,6,7,8,9],[9,8,7,6,3,4,3,2,1],[1.35,2,3,4,5,6,7,8,9]])#numbers used in unit testing\n",
    "def cluster(pic_list):\n",
    "    weightArray = compute_distances(pic_list,pic_list) #This function is from python like you mean it, the best source for python knowledge\n",
    "    weightArray[weightArray==0] = 100 #Prevents the diagonal line of 0s from affecting the function\n",
    "    weightArray = np.reciprocal(weightArray*weightArray) #Does the 1/d^2 thing to find the weights. See the lecture notes if this confuses you.\n",
    "    weightArray[weightArray<1/thresh**2]=-1 #Filters out distances greater than the threshold.\n",
    "    weightArray[weightArray != weightArray] = -1 #takes out those nans\n",
    "    labelList = np.arange(0,pic_list.shape[0]) #List of the labels\n",
    "    #Does a weighted node check. See lecture notes.\n",
    "    for i in range(1000):\n",
    "        temp = np.random.randint(0,len(labelList))\n",
    "        if(weightArray[temp][np.argmax(weightArray[temp])]>0):\n",
    "            labelList[temp] = labelList[np.argmax(weightArray[temp])]\n",
    "    cluster = []\n",
    "    usedLabels = []\n",
    "    #Groups indexes of the images with those in their cluster\n",
    "    for i in range(len(labelList)):\n",
    "        if(labelList[i] in usedLabels):\n",
    "            cluster[usedLabels.index(labelList[i])].append(i)\n",
    "        else:\n",
    "            usedLabels.append(labelList[i])\n",
    "            cluster.append([i])\n",
    "    return cluster"
   ]
  },
  {
   "cell_type": "code",
   "execution_count": 58,
   "metadata": {},
   "outputs": [
    {
     "name": "stdout",
     "output_type": "stream",
     "text": [
      "[[0, 1], [2]]\n"
     ]
    },
    {
     "name": "stderr",
     "output_type": "stream",
     "text": [
      "C:\\Users\\micha\\AppData\\Local\\Continuum\\anaconda3\\envs\\myenv\\lib\\site-packages\\ipykernel_launcher.py:27: RuntimeWarning: invalid value encountered in sqrt\n",
      "C:\\Users\\micha\\AppData\\Local\\Continuum\\anaconda3\\envs\\myenv\\lib\\site-packages\\ipykernel_launcher.py:6: RuntimeWarning: invalid value encountered in less\n",
      "  \n"
     ]
    }
   ],
   "source": [
    "print(cluster(picture_list))"
   ]
  },
  {
   "cell_type": "code",
   "execution_count": 59,
   "metadata": {},
   "outputs": [
    {
     "name": "stdout",
     "output_type": "stream",
     "text": [
      "it worksssssssssssssssssssssssssssssssssssssssssssssssss\n"
     ]
    }
   ],
   "source": [
    "print(\"it worksssssssssssssssssssssssssssssssssssssssssssssssss\")"
   ]
  }
 ],
 "metadata": {
  "kernelspec": {
   "display_name": "Python 3",
   "language": "python",
   "name": "python3"
  },
  "language_info": {
   "codemirror_mode": {
    "name": "ipython",
    "version": 3
   },
   "file_extension": ".py",
   "mimetype": "text/x-python",
   "name": "python",
   "nbconvert_exporter": "python",
   "pygments_lexer": "ipython3",
   "version": "3.6.5"
  }
 },
 "nbformat": 4,
 "nbformat_minor": 2
}
