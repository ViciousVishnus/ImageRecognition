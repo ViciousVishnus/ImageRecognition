{
 "cells": [
  {
   "cell_type": "code",
   "execution_count": 1,
   "metadata": {},
   "outputs": [
    {
     "name": "stdout",
     "output_type": "stream",
     "text": [
      "File already exists:\n",
      "\tc:\\users\\ryguy\\desktop\\mit work\\dlibmodels\\dlib_models\\dlib_face_recognition_resnet_model_v1.dat\n",
      "File already exists:\n",
      "\tc:\\users\\ryguy\\desktop\\mit work\\dlibmodels\\dlib_models\\shape_predictor_68_face_landmarks.dat\n"
     ]
    }
   ],
   "source": [
    "import matplotlib.pyplot as plt\n",
    "%matplotlib notebook\n",
    "from camera import take_picture\n",
    "import numpy as np\n",
    "from dlib_models import download_model, download_predictor, load_dlib_models\n",
    "download_model()\n",
    "download_predictor()\n",
    "from dlib_models import models"
   ]
  },
  {
   "cell_type": "code",
   "execution_count": 3,
   "metadata": {},
   "outputs": [],
   "source": [
    "def take_picture():\n",
    "    pic = take_picture()\n",
    "    return pic"
   ]
  },
  {
   "cell_type": "code",
   "execution_count": 4,
   "metadata": {},
   "outputs": [],
   "source": [
    "def get_faces(pic):\n",
    "    load_dlib_models()\n",
    "    face_detect = models[\"face detect\"]\n",
    "    face_rec_model = models[\"face rec\"]\n",
    "    shape_predictor = models[\"shape predict\"]"
   ]
  },
  {
   "cell_type": "code",
   "execution_count": 5,
   "metadata": {},
   "outputs": [],
   "source": [
    "def search(descriptors):\n",
    "    \"\"\"\n",
    "    Takes in the descriptors and finds the closest face to the image\n",
    "    \"\"\"\n",
    "    #imports the pickle\n",
    "    faces=import_pickle()\n",
    "    #gets values from the pickle\n",
    "    names=[i for i in faces]\n",
    "    description=[i for i in faces.values()]\n",
    "    for i in range(len(faces)):\n",
    "        for j in enumerate(descriptors_dict):\n",
    "            closest[j]=np.sqrt(np.sum((description[j]-faces)**2))\n",
    "        if closest[i]==np.amin(closest):\n",
    "            return names[i]\n",
    "    return(\"I don't know, sorry\")"
   ]
  },
  {
   "cell_type": "code",
   "execution_count": 8,
   "metadata": {},
   "outputs": [],
   "source": [
    "def mean_values(dictionary):\n",
    "    for i in range(len(dictionary)):\n",
    "        dictionary[i].mean()\n",
    "    return not done"
   ]
  },
  {
   "cell_type": "code",
   "execution_count": null,
   "metadata": {},
   "outputs": [],
   "source": []
  }
 ],
 "metadata": {
  "kernelspec": {
   "display_name": "Python [conda env:Camera_env]",
   "language": "python",
   "name": "conda-env-Camera_env-py"
  },
  "language_info": {
   "codemirror_mode": {
    "name": "ipython",
    "version": 3
   },
   "file_extension": ".py",
   "mimetype": "text/x-python",
   "name": "python",
   "nbconvert_exporter": "python",
   "pygments_lexer": "ipython3",
   "version": "3.6.5"
  }
 },
 "nbformat": 4,
 "nbformat_minor": 2
}
