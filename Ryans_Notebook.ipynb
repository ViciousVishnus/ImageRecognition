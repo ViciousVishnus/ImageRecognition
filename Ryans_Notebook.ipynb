{
 "cells": [
  {
   "cell_type": "code",
   "execution_count": 1,
   "metadata": {},
   "outputs": [
    {
     "name": "stdout",
     "output_type": "stream",
     "text": [
      "File already exists:\n",
      "\tc:\\users\\ryguy\\desktop\\mit work\\dlibmodels\\dlib_models\\dlib_face_recognition_resnet_model_v1.dat\n",
      "File already exists:\n",
      "\tc:\\users\\ryguy\\desktop\\mit work\\dlibmodels\\dlib_models\\shape_predictor_68_face_landmarks.dat\n"
     ]
    }
   ],
   "source": [
    "import matplotlib.pyplot as plt\n",
    "%matplotlib notebook\n",
    "from camera import take_picture\n",
    "import numpy as np\n",
    "from dlib_models import download_model, download_predictor, load_dlib_models\n",
    "download_model()\n",
    "download_predictor()\n",
    "from dlib_models import models"
   ]
  },
  {
   "cell_type": "code",
   "execution_count": 3,
   "metadata": {},
   "outputs": [],
   "source": [
    "def take_picture():\n",
    "    pic = take_picture()\n",
    "    return pic"
   ]
  },
  {
   "cell_type": "code",
   "execution_count": 4,
   "metadata": {},
   "outputs": [],
   "source": [
    "def get_faces(pic):\n",
    "    load_dlib_models()\n",
    "    face_detect = models[\"face detect\"]\n",
    "    face_rec_model = models[\"face rec\"]\n",
    "    shape_predictor = models[\"shape predict\"]"
   ]
  },
  {
   "cell_type": "code",
   "execution_count": 12,
   "metadata": {},
   "outputs": [],
   "source": [
    "def search(descriptors):\n",
    "    \"\"\"\n",
    "    Takes in the descriptors and finds the closest face to the image\n",
    "    \n",
    "    Input: \n",
    "    \n",
    "    descriptors: The array of (128,) descriptors of a particular face\n",
    "    \n",
    "    Returns: \n",
    "    \n",
    "    names[i]: The name of the person in the picture\n",
    "    \n",
    "    \"\"\"\n",
    "    #imports the pickle\n",
    "    faces_whole_dic=import_pickle()\n",
    "    #finds the mean values for each descriptors\n",
    "    faces=mean_values(faces_whole_dic)\n",
    "    #gets values from the pickle\n",
    "    names=[i for i in faces]\n",
    "    descriptions=[i for i in faces.values()]\n",
    "    for i in range(len(faces)):\n",
    "        for j in range(len(description)):\n",
    "            closest[j]=np.sqrt(np.sum((descriptions[j]-faces)**2))\n",
    "        if closest[i]==np.amin(closest):\n",
    "            return names[i]\n",
    "    return(\"I don't know, sorry\")"
   ]
  },
  {
   "cell_type": "code",
   "execution_count": 11,
   "metadata": {},
   "outputs": [],
   "source": [
    "def mean_values(dictionary):\n",
    "    \"\"\"\n",
    "    Takes in the dictionary with values that need to find the mean over and returns the dictionary with Key: Name, Values: np.array(128,)\n",
    "    \n",
    "    Input:\n",
    "    \n",
    "    dictionary: dictionary with Key: Name, Values: (N, 128)\n",
    "    \n",
    "    Returns:\n",
    "    \"\"\"\n",
    "    for i in range(len(dictionary)):\n",
    "        names=[j for j in dictionary]\n",
    "        descriptions=[j for j in dictionary.values()]\n",
    "        descriptor_mean=np.mean(descriptions[i], axis=0)\n",
    "        dictionary.update([(names[i], descriptor_mean)])\n",
    "    return dictionary"
   ]
  },
  {
   "cell_type": "code",
   "execution_count": null,
   "metadata": {},
   "outputs": [],
   "source": []
  }
 ],
 "metadata": {
  "kernelspec": {
   "display_name": "Python [conda env:Camera_env]",
   "language": "python",
   "name": "conda-env-Camera_env-py"
  },
  "language_info": {
   "codemirror_mode": {
    "name": "ipython",
    "version": 3
   },
   "file_extension": ".py",
   "mimetype": "text/x-python",
   "name": "python",
   "nbconvert_exporter": "python",
   "pygments_lexer": "ipython3",
   "version": "3.6.5"
  }
 },
 "nbformat": 4,
 "nbformat_minor": 2
}
